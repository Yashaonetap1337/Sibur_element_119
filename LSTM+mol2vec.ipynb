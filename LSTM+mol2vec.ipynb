{
  "cells": [
    {
      "cell_type": "code",
      "execution_count": null,
      "metadata": {
        "id": "CpM24fAuosOg"
      },
      "outputs": [],
      "source": [
        "%pip install torch matplotlib seaborn rdkit"
      ]
    },
    {
      "cell_type": "code",
      "source": [
        "%pip install git+https://github.com/EBjerrum/molvecgen"
      ],
      "metadata": {
        "id": "iq4MnrQIovT1"
      },
      "execution_count": null,
      "outputs": []
    },
    {
      "cell_type": "markdown",
      "metadata": {
        "id": "Ej43rk2gosOh"
      },
      "source": [
        "Импорты"
      ]
    },
    {
      "cell_type": "code",
      "execution_count": 3,
      "metadata": {
        "id": "x6Uv8CvSosOj"
      },
      "outputs": [],
      "source": [
        "import pandas as pd\n",
        "import numpy as np\n",
        "import matplotlib.pyplot as plt\n",
        "import seaborn as sns\n",
        "\n",
        "from rdkit import Chem, DataStructs\n",
        "from rdkit.Chem import PandasTools, AllChem\n",
        "from sklearn.preprocessing import StandardScaler\n",
        "from sklearn.model_selection import train_test_split\n",
        "import torch\n",
        "import torch.nn as nn\n",
        "from torch.utils.data import Dataset\n",
        "from torch.optim.lr_scheduler import ReduceLROnPlateau\n",
        "\n",
        "from molvecgen.vectorizers import SmilesVectorizer"
      ]
    },
    {
      "cell_type": "markdown",
      "metadata": {
        "id": "ict_pCQzosOj"
      },
      "source": [
        "Чтение данных"
      ]
    },
    {
      "cell_type": "code",
      "execution_count": 4,
      "metadata": {
        "id": "XaFqOGPmosOk"
      },
      "outputs": [],
      "source": [
        "df = pd.read_csv('sibur_element_119_final_train_data80.csv')"
      ]
    },
    {
      "cell_type": "markdown",
      "metadata": {
        "id": "Cm6hOn2_osOk"
      },
      "source": [
        "Убираем выбросы"
      ]
    },
    {
      "cell_type": "code",
      "execution_count": null,
      "metadata": {
        "id": "o4Nn8J2fosOk"
      },
      "outputs": [],
      "source": [
        "..."
      ]
    },
    {
      "cell_type": "markdown",
      "metadata": {
        "id": "MSzz5qTrosOl"
      },
      "source": [
        "Переведём в класс молекул все примеры"
      ]
    },
    {
      "cell_type": "code",
      "execution_count": null,
      "metadata": {
        "id": "-f0QaVU3osOl"
      },
      "outputs": [],
      "source": [
        "PandasTools.AddMoleculeColumnToFrame(df,'SMILES','Molecule')"
      ]
    },
    {
      "cell_type": "code",
      "execution_count": 6,
      "metadata": {
        "colab": {
          "base_uri": "https://localhost:8080/",
          "height": 223
        },
        "id": "GT-2A6sNosOl",
        "outputId": "e05e11fe-48d4-44cb-bf07-7dd78874c3b9"
      },
      "outputs": [
        {
          "output_type": "stream",
          "name": "stdout",
          "text": [
            "(13403, 4)\n"
          ]
        },
        {
          "output_type": "execute_result",
          "data": {
            "text/plain": [
              "                                SMILES  \\\n",
              "0              C1(NON=C1C2=CC=CC=C2)=N   \n",
              "1  C=1C=CC=CC=1CC(NC=2C=CC(=CC=2)Br)=O   \n",
              "2                        C(C)C1=CC=CS1   \n",
              "3        N1C=CNC1=NC2C(OC)=NC(=NC2Cl)C   \n",
              "4                             CC(C)CCO   \n",
              "\n",
              "                                           Molecule  \n",
              "0  <rdkit.Chem.rdchem.Mol object at 0x7a4a8bd4e650>  \n",
              "1  <rdkit.Chem.rdchem.Mol object at 0x7a4a8bd4dc40>  \n",
              "2  <rdkit.Chem.rdchem.Mol object at 0x7a4a8bb31000>  \n",
              "3  <rdkit.Chem.rdchem.Mol object at 0x7a4a8bb31fc0>  \n",
              "4  <rdkit.Chem.rdchem.Mol object at 0x7a4a8bb30200>  "
            ],
            "text/html": [
              "\n",
              "  <div id=\"df-4edad86a-6e89-406c-8cf7-96f43e61bcee\" class=\"colab-df-container\">\n",
              "    <div>\n",
              "<style scoped>\n",
              "    .dataframe tbody tr th:only-of-type {\n",
              "        vertical-align: middle;\n",
              "    }\n",
              "\n",
              "    .dataframe tbody tr th {\n",
              "        vertical-align: top;\n",
              "    }\n",
              "\n",
              "    .dataframe thead th {\n",
              "        text-align: right;\n",
              "    }\n",
              "</style>\n",
              "<table border=\"1\" class=\"dataframe\">\n",
              "  <thead>\n",
              "    <tr style=\"text-align: right;\">\n",
              "      <th></th>\n",
              "      <th>SMILES</th>\n",
              "      <th>Molecule</th>\n",
              "    </tr>\n",
              "  </thead>\n",
              "  <tbody>\n",
              "    <tr>\n",
              "      <th>0</th>\n",
              "      <td>C1(NON=C1C2=CC=CC=C2)=N</td>\n",
              "      <td>&lt;rdkit.Chem.rdchem.Mol object at 0x7a4a8bd4e650&gt;</td>\n",
              "    </tr>\n",
              "    <tr>\n",
              "      <th>1</th>\n",
              "      <td>C=1C=CC=CC=1CC(NC=2C=CC(=CC=2)Br)=O</td>\n",
              "      <td>&lt;rdkit.Chem.rdchem.Mol object at 0x7a4a8bd4dc40&gt;</td>\n",
              "    </tr>\n",
              "    <tr>\n",
              "      <th>2</th>\n",
              "      <td>C(C)C1=CC=CS1</td>\n",
              "      <td>&lt;rdkit.Chem.rdchem.Mol object at 0x7a4a8bb31000&gt;</td>\n",
              "    </tr>\n",
              "    <tr>\n",
              "      <th>3</th>\n",
              "      <td>N1C=CNC1=NC2C(OC)=NC(=NC2Cl)C</td>\n",
              "      <td>&lt;rdkit.Chem.rdchem.Mol object at 0x7a4a8bb31fc0&gt;</td>\n",
              "    </tr>\n",
              "    <tr>\n",
              "      <th>4</th>\n",
              "      <td>CC(C)CCO</td>\n",
              "      <td>&lt;rdkit.Chem.rdchem.Mol object at 0x7a4a8bb30200&gt;</td>\n",
              "    </tr>\n",
              "  </tbody>\n",
              "</table>\n",
              "</div>\n",
              "    <div class=\"colab-df-buttons\">\n",
              "\n",
              "  <div class=\"colab-df-container\">\n",
              "    <button class=\"colab-df-convert\" onclick=\"convertToInteractive('df-4edad86a-6e89-406c-8cf7-96f43e61bcee')\"\n",
              "            title=\"Convert this dataframe to an interactive table.\"\n",
              "            style=\"display:none;\">\n",
              "\n",
              "  <svg xmlns=\"http://www.w3.org/2000/svg\" height=\"24px\" viewBox=\"0 -960 960 960\">\n",
              "    <path d=\"M120-120v-720h720v720H120Zm60-500h600v-160H180v160Zm220 220h160v-160H400v160Zm0 220h160v-160H400v160ZM180-400h160v-160H180v160Zm440 0h160v-160H620v160ZM180-180h160v-160H180v160Zm440 0h160v-160H620v160Z\"/>\n",
              "  </svg>\n",
              "    </button>\n",
              "\n",
              "  <style>\n",
              "    .colab-df-container {\n",
              "      display:flex;\n",
              "      gap: 12px;\n",
              "    }\n",
              "\n",
              "    .colab-df-convert {\n",
              "      background-color: #E8F0FE;\n",
              "      border: none;\n",
              "      border-radius: 50%;\n",
              "      cursor: pointer;\n",
              "      display: none;\n",
              "      fill: #1967D2;\n",
              "      height: 32px;\n",
              "      padding: 0 0 0 0;\n",
              "      width: 32px;\n",
              "    }\n",
              "\n",
              "    .colab-df-convert:hover {\n",
              "      background-color: #E2EBFA;\n",
              "      box-shadow: 0px 1px 2px rgba(60, 64, 67, 0.3), 0px 1px 3px 1px rgba(60, 64, 67, 0.15);\n",
              "      fill: #174EA6;\n",
              "    }\n",
              "\n",
              "    .colab-df-buttons div {\n",
              "      margin-bottom: 4px;\n",
              "    }\n",
              "\n",
              "    [theme=dark] .colab-df-convert {\n",
              "      background-color: #3B4455;\n",
              "      fill: #D2E3FC;\n",
              "    }\n",
              "\n",
              "    [theme=dark] .colab-df-convert:hover {\n",
              "      background-color: #434B5C;\n",
              "      box-shadow: 0px 1px 3px 1px rgba(0, 0, 0, 0.15);\n",
              "      filter: drop-shadow(0px 1px 2px rgba(0, 0, 0, 0.3));\n",
              "      fill: #FFFFFF;\n",
              "    }\n",
              "  </style>\n",
              "\n",
              "    <script>\n",
              "      const buttonEl =\n",
              "        document.querySelector('#df-4edad86a-6e89-406c-8cf7-96f43e61bcee button.colab-df-convert');\n",
              "      buttonEl.style.display =\n",
              "        google.colab.kernel.accessAllowed ? 'block' : 'none';\n",
              "\n",
              "      async function convertToInteractive(key) {\n",
              "        const element = document.querySelector('#df-4edad86a-6e89-406c-8cf7-96f43e61bcee');\n",
              "        const dataTable =\n",
              "          await google.colab.kernel.invokeFunction('convertToInteractive',\n",
              "                                                    [key], {});\n",
              "        if (!dataTable) return;\n",
              "\n",
              "        const docLinkHtml = 'Like what you see? Visit the ' +\n",
              "          '<a target=\"_blank\" href=https://colab.research.google.com/notebooks/data_table.ipynb>data table notebook</a>'\n",
              "          + ' to learn more about interactive tables.';\n",
              "        element.innerHTML = '';\n",
              "        dataTable['output_type'] = 'display_data';\n",
              "        await google.colab.output.renderOutput(dataTable, element);\n",
              "        const docLink = document.createElement('div');\n",
              "        docLink.innerHTML = docLinkHtml;\n",
              "        element.appendChild(docLink);\n",
              "      }\n",
              "    </script>\n",
              "  </div>\n",
              "\n",
              "\n",
              "<div id=\"df-04958db0-5f86-4ec8-9214-ab14fdc7834c\">\n",
              "  <button class=\"colab-df-quickchart\" onclick=\"quickchart('df-04958db0-5f86-4ec8-9214-ab14fdc7834c')\"\n",
              "            title=\"Suggest charts\"\n",
              "            style=\"display:none;\">\n",
              "\n",
              "<svg xmlns=\"http://www.w3.org/2000/svg\" height=\"24px\"viewBox=\"0 0 24 24\"\n",
              "     width=\"24px\">\n",
              "    <g>\n",
              "        <path d=\"M19 3H5c-1.1 0-2 .9-2 2v14c0 1.1.9 2 2 2h14c1.1 0 2-.9 2-2V5c0-1.1-.9-2-2-2zM9 17H7v-7h2v7zm4 0h-2V7h2v10zm4 0h-2v-4h2v4z\"/>\n",
              "    </g>\n",
              "</svg>\n",
              "  </button>\n",
              "\n",
              "<style>\n",
              "  .colab-df-quickchart {\n",
              "      --bg-color: #E8F0FE;\n",
              "      --fill-color: #1967D2;\n",
              "      --hover-bg-color: #E2EBFA;\n",
              "      --hover-fill-color: #174EA6;\n",
              "      --disabled-fill-color: #AAA;\n",
              "      --disabled-bg-color: #DDD;\n",
              "  }\n",
              "\n",
              "  [theme=dark] .colab-df-quickchart {\n",
              "      --bg-color: #3B4455;\n",
              "      --fill-color: #D2E3FC;\n",
              "      --hover-bg-color: #434B5C;\n",
              "      --hover-fill-color: #FFFFFF;\n",
              "      --disabled-bg-color: #3B4455;\n",
              "      --disabled-fill-color: #666;\n",
              "  }\n",
              "\n",
              "  .colab-df-quickchart {\n",
              "    background-color: var(--bg-color);\n",
              "    border: none;\n",
              "    border-radius: 50%;\n",
              "    cursor: pointer;\n",
              "    display: none;\n",
              "    fill: var(--fill-color);\n",
              "    height: 32px;\n",
              "    padding: 0;\n",
              "    width: 32px;\n",
              "  }\n",
              "\n",
              "  .colab-df-quickchart:hover {\n",
              "    background-color: var(--hover-bg-color);\n",
              "    box-shadow: 0 1px 2px rgba(60, 64, 67, 0.3), 0 1px 3px 1px rgba(60, 64, 67, 0.15);\n",
              "    fill: var(--button-hover-fill-color);\n",
              "  }\n",
              "\n",
              "  .colab-df-quickchart-complete:disabled,\n",
              "  .colab-df-quickchart-complete:disabled:hover {\n",
              "    background-color: var(--disabled-bg-color);\n",
              "    fill: var(--disabled-fill-color);\n",
              "    box-shadow: none;\n",
              "  }\n",
              "\n",
              "  .colab-df-spinner {\n",
              "    border: 2px solid var(--fill-color);\n",
              "    border-color: transparent;\n",
              "    border-bottom-color: var(--fill-color);\n",
              "    animation:\n",
              "      spin 1s steps(1) infinite;\n",
              "  }\n",
              "\n",
              "  @keyframes spin {\n",
              "    0% {\n",
              "      border-color: transparent;\n",
              "      border-bottom-color: var(--fill-color);\n",
              "      border-left-color: var(--fill-color);\n",
              "    }\n",
              "    20% {\n",
              "      border-color: transparent;\n",
              "      border-left-color: var(--fill-color);\n",
              "      border-top-color: var(--fill-color);\n",
              "    }\n",
              "    30% {\n",
              "      border-color: transparent;\n",
              "      border-left-color: var(--fill-color);\n",
              "      border-top-color: var(--fill-color);\n",
              "      border-right-color: var(--fill-color);\n",
              "    }\n",
              "    40% {\n",
              "      border-color: transparent;\n",
              "      border-right-color: var(--fill-color);\n",
              "      border-top-color: var(--fill-color);\n",
              "    }\n",
              "    60% {\n",
              "      border-color: transparent;\n",
              "      border-right-color: var(--fill-color);\n",
              "    }\n",
              "    80% {\n",
              "      border-color: transparent;\n",
              "      border-right-color: var(--fill-color);\n",
              "      border-bottom-color: var(--fill-color);\n",
              "    }\n",
              "    90% {\n",
              "      border-color: transparent;\n",
              "      border-bottom-color: var(--fill-color);\n",
              "    }\n",
              "  }\n",
              "</style>\n",
              "\n",
              "  <script>\n",
              "    async function quickchart(key) {\n",
              "      const quickchartButtonEl =\n",
              "        document.querySelector('#' + key + ' button');\n",
              "      quickchartButtonEl.disabled = true;  // To prevent multiple clicks.\n",
              "      quickchartButtonEl.classList.add('colab-df-spinner');\n",
              "      try {\n",
              "        const charts = await google.colab.kernel.invokeFunction(\n",
              "            'suggestCharts', [key], {});\n",
              "      } catch (error) {\n",
              "        console.error('Error during call to suggestCharts:', error);\n",
              "      }\n",
              "      quickchartButtonEl.classList.remove('colab-df-spinner');\n",
              "      quickchartButtonEl.classList.add('colab-df-quickchart-complete');\n",
              "    }\n",
              "    (() => {\n",
              "      let quickchartButtonEl =\n",
              "        document.querySelector('#df-04958db0-5f86-4ec8-9214-ab14fdc7834c button');\n",
              "      quickchartButtonEl.style.display =\n",
              "        google.colab.kernel.accessAllowed ? 'block' : 'none';\n",
              "    })();\n",
              "  </script>\n",
              "</div>\n",
              "    </div>\n",
              "  </div>\n"
            ],
            "application/vnd.google.colaboratory.intrinsic+json": {
              "type": "dataframe",
              "summary": "{\n  \"name\": \"df[[\\\"SMILES\\\",\\\"Molecule\\\"]]\",\n  \"rows\": 5,\n  \"fields\": [\n    {\n      \"column\": \"SMILES\",\n      \"properties\": {\n        \"dtype\": \"string\",\n        \"num_unique_values\": 5,\n        \"samples\": [\n          \"C=1C=CC=CC=1CC(NC=2C=CC(=CC=2)Br)=O\",\n          \"CC(C)CCO\",\n          \"C(C)C1=CC=CS1\"\n        ],\n        \"semantic_type\": \"\",\n        \"description\": \"\"\n      }\n    },\n    {\n      \"column\": \"Molecule\",\n      \"properties\": {\n        \"dtype\": \"string\",\n        \"num_unique_values\": 5,\n        \"samples\": [\n          \"<rdkit.Chem.rdchem.Mol object at 0x7a4a8bd4dc40>\",\n          \"<rdkit.Chem.rdchem.Mol object at 0x7a4a8bb30200>\",\n          \"<rdkit.Chem.rdchem.Mol object at 0x7a4a8bb31000>\"\n        ],\n        \"semantic_type\": \"\",\n        \"description\": \"\"\n      }\n    }\n  ]\n}"
            }
          },
          "metadata": {},
          "execution_count": 6
        }
      ],
      "source": [
        "print(df.shape)\n",
        "df[[\"SMILES\",\"Molecule\"]].head()"
      ]
    },
    {
      "cell_type": "markdown",
      "metadata": {
        "id": "ALe-NTkKosOm"
      },
      "source": [
        "Убираем Nan после конвертации"
      ]
    },
    {
      "cell_type": "code",
      "execution_count": 7,
      "metadata": {
        "colab": {
          "base_uri": "https://localhost:8080/"
        },
        "id": "R0V4YhsIosOm",
        "outputId": "f29f3a99-b281-4f10-9044-fe1e7fd1cafb"
      },
      "outputs": [
        {
          "output_type": "stream",
          "name": "stdout",
          "text": [
            "(12953, 4)\n"
          ]
        }
      ],
      "source": [
        "df = df.dropna()\n",
        "print(df.shape)"
      ]
    },
    {
      "cell_type": "markdown",
      "metadata": {
        "id": "fLs-HMMYosOm"
      },
      "source": [
        "Обучаем векторизатор"
      ]
    },
    {
      "cell_type": "code",
      "execution_count": 8,
      "metadata": {
        "id": "yPGNeElTosOm"
      },
      "outputs": [],
      "source": [
        "smivec = SmilesVectorizer(pad=1, leftpad=True, canonical=False, augment=True)\n",
        "smivec.fit(df.Molecule.values, )"
      ]
    },
    {
      "cell_type": "markdown",
      "metadata": {
        "id": "6dRCXsh6osOn"
      },
      "source": [
        "Разделяем переменные"
      ]
    },
    {
      "cell_type": "code",
      "execution_count": 9,
      "metadata": {
        "id": "xTB9mhtLosOn"
      },
      "outputs": [],
      "source": [
        "y = df['LogP'].values.reshape((-1,1))\n",
        "X = df.Molecule.values"
      ]
    },
    {
      "cell_type": "markdown",
      "metadata": {
        "id": "6TSRRYwZosOn"
      },
      "source": [
        "Разделяем выборки"
      ]
    },
    {
      "cell_type": "code",
      "execution_count": 10,
      "metadata": {
        "id": "GKJweaRsosOn"
      },
      "outputs": [],
      "source": [
        "X_train, X_test, y_train, y_test = train_test_split(X, y,  test_size=0.2, random_state=42)\n",
        "X_train, X_validation, y_train, y_validation = train_test_split(X_train, y_train,  test_size=0.2, random_state=42)"
      ]
    },
    {
      "cell_type": "markdown",
      "metadata": {
        "id": "kgQS_GJGosOn"
      },
      "source": [
        "Делаем нормализацию данных"
      ]
    },
    {
      "cell_type": "code",
      "execution_count": 11,
      "metadata": {
        "id": "UWDfXGdLosOo"
      },
      "outputs": [],
      "source": [
        "scaler = StandardScaler()\n",
        "y_train = scaler.fit_transform(y_train)\n",
        "y_test = scaler.transform(y_test)\n",
        "y_validation = scaler.transform(y_validation)"
      ]
    },
    {
      "cell_type": "markdown",
      "metadata": {
        "id": "iOTQ2CtoosOo"
      },
      "source": [
        "Размеры"
      ]
    },
    {
      "cell_type": "code",
      "execution_count": 12,
      "metadata": {
        "colab": {
          "base_uri": "https://localhost:8080/"
        },
        "id": "hQvOKwrposOo",
        "outputId": "7d6e9453-b6ef-4672-a949-6a2e8c1a5125"
      },
      "outputs": [
        {
          "output_type": "stream",
          "name": "stdout",
          "text": [
            "(8289, 1)\n",
            "(2073, 1)\n",
            "(2591, 1)\n"
          ]
        }
      ],
      "source": [
        "print(y_train.shape)\n",
        "print(y_validation.shape)\n",
        "print(y_test.shape)"
      ]
    },
    {
      "cell_type": "markdown",
      "metadata": {
        "id": "HqPl_hziosOo"
      },
      "source": [
        "Класс для датасета"
      ]
    },
    {
      "cell_type": "code",
      "execution_count": 13,
      "metadata": {
        "id": "dxfWj4rgosOo"
      },
      "outputs": [],
      "source": [
        "class SMILESMolDataset(Dataset):\n",
        "    def __init__(self, molecules, y, vectorizer):\n",
        "        self.molecules = molecules\n",
        "        self.y = y\n",
        "        self.vectorizer = vectorizer\n",
        "    def __len__(self):\n",
        "        return len(self.molecules)\n",
        "    def __getitem__(self, idx):\n",
        "        if torch.is_tensor(idx):\n",
        "            idx = idx.tolist()\n",
        "\n",
        "        mols = self.molecules[idx]\n",
        "\n",
        "        sample = self.vectorizer.transform([mols])[0]\n",
        "        label = self.y[idx]\n",
        "        return sample, label"
      ]
    },
    {
      "cell_type": "markdown",
      "metadata": {
        "id": "ejbXy4hJosOo"
      },
      "source": [
        "Оборачиваем данные в класс датасета"
      ]
    },
    {
      "cell_type": "code",
      "execution_count": 14,
      "metadata": {
        "colab": {
          "base_uri": "https://localhost:8080/"
        },
        "id": "orsfRQ0WosOp",
        "outputId": "83661c91-2329-497d-e59e-f5787d6a65a6"
      },
      "outputs": [
        {
          "output_type": "execute_result",
          "data": {
            "text/plain": [
              "(array([[0, 0, 0, ..., 0, 0, 0],\n",
              "        [0, 0, 0, ..., 0, 0, 0],\n",
              "        [0, 0, 0, ..., 0, 0, 0],\n",
              "        ...,\n",
              "        [0, 0, 0, ..., 0, 0, 0],\n",
              "        [0, 0, 0, ..., 0, 0, 0],\n",
              "        [0, 0, 0, ..., 0, 1, 0]], dtype=int8),\n",
              " array([-0.60517747]))"
            ]
          },
          "metadata": {},
          "execution_count": 14
        }
      ],
      "source": [
        "train_dataset = SMILESMolDataset(X_train, y_train, smivec)\n",
        "train_dataset[78]"
      ]
    },
    {
      "cell_type": "markdown",
      "metadata": {
        "id": "Q9FctxSeosOp"
      },
      "source": [
        "Переводим валидационные данные в тензоры"
      ]
    },
    {
      "cell_type": "code",
      "execution_count": 15,
      "metadata": {
        "colab": {
          "base_uri": "https://localhost:8080/"
        },
        "id": "kUDrFYpYosOp",
        "outputId": "6301c124-b5f0-4cc6-bee3-7ff5d3a9be3c"
      },
      "outputs": [
        {
          "output_type": "stream",
          "name": "stdout",
          "text": [
            "cuda:0\n"
          ]
        },
        {
          "output_type": "execute_result",
          "data": {
            "text/plain": [
              "torch.Size([2073, 168, 36])"
            ]
          },
          "metadata": {},
          "execution_count": 15
        }
      ],
      "source": [
        "device = torch.device(\"cuda:0\" if torch.cuda.is_available() else \"cpu\")\n",
        "print(device)\n",
        "X_validation_t = smivec.transform(X_validation, canonical=False)\n",
        "X_validation_t = torch.tensor(X_validation_t, device=device).float()\n",
        "y_validation_t = torch.tensor(y_validation, device=device).float()\n",
        "y_validation_t = torch.nan_to_num(y_validation_t, nan = torch.nanmean(y_validation_t))\n",
        "X_validation_t.shape"
      ]
    },
    {
      "cell_type": "markdown",
      "metadata": {
        "id": "Q4KiETVaosOp"
      },
      "source": [
        "Определяем параметры для модели"
      ]
    },
    {
      "cell_type": "code",
      "execution_count": 31,
      "metadata": {
        "id": "8xhGgY8iosOp"
      },
      "outputs": [],
      "source": [
        "epochs = 100\n",
        "dims = smivec.dims\n",
        "lstm_size = 32  # The size of the LSTM layer\n",
        "hidden_size = 32  # The size of the hidden non-linear layer\n",
        "dropout_rate = 0.3 # The dropout rate\n",
        "output_size = 1        # This is just a single task, so this will be one\n",
        "batch_size = 64  # The mini_batch size during training\n",
        "learning_rate = 0.01  # The initial learning rate for the optimizer"
      ]
    },
    {
      "cell_type": "markdown",
      "metadata": {
        "id": "5L3r7VohosOq"
      },
      "source": [
        "Определяем модель"
      ]
    },
    {
      "cell_type": "code",
      "execution_count": 32,
      "metadata": {
        "id": "9piIVqf0osOq"
      },
      "outputs": [],
      "source": [
        "class Net(nn.Module):\n",
        "    def __init__(self, dimensions, lstm_size, hidden_size, dropout_rate, out_size):\n",
        "        super(Net, self).__init__()\n",
        "\n",
        "        length = dims[0]\n",
        "        number_tokens = dims[1]\n",
        "\n",
        "\n",
        "        self.lstm = nn.GRU(input_size=number_tokens, hidden_size=lstm_size, num_layers=1, batch_first=True, bidirectional=False, dropout  = 0.2)\n",
        "        self.fc1 = nn.Linear(lstm_size, hidden_size) # Output layer\n",
        "        self.activation = nn.ReLU() # Non-Linear ReLU Layer\n",
        "        self.fc2 = nn.Linear(hidden_size, hidden_size//2) # Output layer\n",
        "        self.activation2 = nn.ReLU() # Non-Linear ReLU Layer\n",
        "        self.fc_out = nn.Linear(hidden_size//2, out_size) # Output layer\n",
        "        self.dropout = nn.Dropout(dropout_rate)\n",
        "\n",
        "    def forward(self, x):# Forward pass: stacking each layer together\n",
        "        #out, (h_n, c_n) = self.lstm(x) #LSTM network reads in one-hot-encoded SMILES, h_n is last output, out is for all timesteps\n",
        "        out, h_n = self.lstm(x) #GRU network reads in one-hot-encoded SMILES, h_n is last output, out is for all timesteps\n",
        "        out = self.dropout(h_n) #Dropout\n",
        "        out = self.fc1(out) # Pass into the hidden layer\n",
        "        out = self.activation(out) # Use ReLU on hidden activation\n",
        "        out = self.fc2(out) # Pass into the hidden layer\n",
        "        out = self.activation2(out) # Use ReLU on hidden activation\n",
        "        out = self.dropout(out) # dropout\n",
        "        out = self.fc_out(out) # Use a linear layer for the output\n",
        "        return out"
      ]
    },
    {
      "cell_type": "markdown",
      "metadata": {
        "id": "DEPn0p2KosOq"
      },
      "source": [
        "Определяем экземпляр модели"
      ]
    },
    {
      "cell_type": "code",
      "execution_count": 33,
      "metadata": {
        "colab": {
          "base_uri": "https://localhost:8080/"
        },
        "id": "pm3v3nk0osOq",
        "outputId": "f824d802-2a2a-48bf-dc34-53d15fac6c22"
      },
      "outputs": [
        {
          "output_type": "stream",
          "name": "stderr",
          "text": [
            "/usr/local/lib/python3.11/dist-packages/torch/nn/modules/rnn.py:123: UserWarning: dropout option adds dropout after all but last recurrent layer, so non-zero dropout expects num_layers greater than 1, but got dropout=0.2 and num_layers=1\n",
            "  warnings.warn(\n"
          ]
        },
        {
          "output_type": "execute_result",
          "data": {
            "text/plain": [
              "Net(\n",
              "  (lstm): GRU(36, 32, batch_first=True, dropout=0.2)\n",
              "  (fc1): Linear(in_features=32, out_features=32, bias=True)\n",
              "  (activation): ReLU()\n",
              "  (fc2): Linear(in_features=32, out_features=16, bias=True)\n",
              "  (activation2): ReLU()\n",
              "  (fc_out): Linear(in_features=16, out_features=1, bias=True)\n",
              "  (dropout): Dropout(p=0.3, inplace=False)\n",
              ")"
            ]
          },
          "metadata": {},
          "execution_count": 33
        }
      ],
      "source": [
        "model = Net(smivec, lstm_size, hidden_size, dropout_rate, output_size)\n",
        "model.cuda()"
      ]
    },
    {
      "cell_type": "markdown",
      "metadata": {
        "id": "Ao0yDcuSosOq"
      },
      "source": [
        "Пробуем сделать прямой проход в нейронке"
      ]
    },
    {
      "cell_type": "code",
      "execution_count": 34,
      "metadata": {
        "colab": {
          "base_uri": "https://localhost:8080/"
        },
        "id": "xiV2Sb5RosOr",
        "outputId": "bb1d4f7c-2e21-4352-96ac-d7b86758f9d5"
      },
      "outputs": [
        {
          "output_type": "execute_result",
          "data": {
            "text/plain": [
              "tensor([[[-0.2133]]], device='cuda:0', grad_fn=<ViewBackward0>)"
            ]
          },
          "metadata": {},
          "execution_count": 34
        }
      ],
      "source": [
        "pred = model.forward(X_validation_t[10:11])\n",
        "pred"
      ]
    },
    {
      "cell_type": "markdown",
      "metadata": {
        "id": "OoBfETKVosOr"
      },
      "source": [
        "Объявляем функцию потерь, оптимизатор и lr управление"
      ]
    },
    {
      "cell_type": "code",
      "execution_count": 35,
      "metadata": {
        "id": "CqMaNaLSosOr"
      },
      "outputs": [],
      "source": [
        "criterion = nn.MSELoss()\n",
        "optimizer = torch.optim.Adam(model.parameters(), lr=learning_rate)\n",
        "lr_scheduler = ReduceLROnPlateau(optimizer, mode='min', factor=0.5, patience=50,\n",
        "                  verbose=True, threshold=0.0001, threshold_mode='rel', cooldown=0, min_lr=1e-6, eps=1e-08)\n"
      ]
    },
    {
      "cell_type": "markdown",
      "metadata": {
        "id": "I94yLYZfosOr"
      },
      "source": [
        "Создаём трейн лоадер из которого будем брать данные для обучения"
      ]
    },
    {
      "cell_type": "code",
      "execution_count": 36,
      "metadata": {
        "id": "Lg9ImcOXosOx"
      },
      "outputs": [],
      "source": [
        "train_loader = torch.utils.data.DataLoader(dataset=train_dataset,\n",
        "                                          batch_size=batch_size,\n",
        "                                          shuffle=True, num_workers=4)"
      ]
    },
    {
      "cell_type": "markdown",
      "metadata": {
        "id": "d5EiGkmrosOx"
      },
      "source": [
        "Проверка что лоадер возвращает примеры"
      ]
    },
    {
      "cell_type": "code",
      "execution_count": null,
      "metadata": {
        "id": "ZCMR2wGaosOy"
      },
      "outputs": [],
      "source": [
        "for smiles, labels in train_loader:\n",
        "    print(smiles)\n",
        "    print(labels)\n",
        "    break"
      ]
    },
    {
      "cell_type": "markdown",
      "metadata": {
        "id": "Y4vjutTIosOy"
      },
      "source": [
        "Обучаем модель"
      ]
    },
    {
      "cell_type": "code",
      "execution_count": 38,
      "metadata": {
        "colab": {
          "base_uri": "https://localhost:8080/"
        },
        "id": "rXiae5L6osOy",
        "outputId": "3e1ace42-178f-4ad6-9e0d-e00b925d4d17"
      },
      "outputs": [
        {
          "output_type": "stream",
          "name": "stdout",
          "text": [
            "Epoch 5, Training loss: 0.55 Validation loss: 0.49\n",
            "Epoch 10, Training loss: 0.52 Validation loss: 0.44\n",
            "Epoch 15, Training loss: 0.49 Validation loss: 0.46\n",
            "Epoch 20, Training loss: 0.50 Validation loss: 0.42\n",
            "Epoch 25, Training loss: 0.48 Validation loss: 0.42\n",
            "Epoch 30, Training loss: 0.49 Validation loss: 0.41\n",
            "Epoch 35, Training loss: 0.48 Validation loss: 0.41\n",
            "Epoch 40, Training loss: 0.47 Validation loss: 0.39\n",
            "Epoch 45, Training loss: 0.46 Validation loss: 0.41\n",
            "Epoch 50, Training loss: 0.46 Validation loss: 0.44\n",
            "Epoch 55, Training loss: 0.46 Validation loss: 0.40\n",
            "Epoch 60, Training loss: 0.45 Validation loss: 0.39\n",
            "Epoch 65, Training loss: 0.45 Validation loss: 0.39\n",
            "Epoch 70, Training loss: 0.46 Validation loss: 0.38\n",
            "Epoch 75, Training loss: 0.45 Validation loss: 0.42\n",
            "Epoch 80, Training loss: 0.45 Validation loss: 0.39\n",
            "Epoch 85, Training loss: 0.44 Validation loss: 0.38\n",
            "Epoch 90, Training loss: 0.45 Validation loss: 0.39\n",
            "Epoch 95, Training loss: 0.46 Validation loss: 0.39\n",
            "Epoch 100, Training loss: 0.43 Validation loss: 0.38\n"
          ]
        }
      ],
      "source": [
        "import warnings\n",
        "warnings.filterwarnings('ignore')\n",
        "\n",
        "model.train() #Ensure the network is in \"train\" mode with dropouts active\n",
        "train_losses = []\n",
        "validation_losses = []\n",
        "for e in range(epochs):\n",
        "    running_loss = 0\n",
        "    for smiles, labels in train_loader:\n",
        "        # Push numpy to CUDA tensors\n",
        "        smiles = torch.tensor(smiles, device=device).float()\n",
        "        #print(smiles)\n",
        "        labels = torch.tensor(labels, device=device).float()\n",
        "        labels = torch.nan_to_num(labels, nan = torch.nanmean(labels))\n",
        "        #print(labels)\n",
        "        #break\n",
        "        # Training pass\n",
        "        optimizer.zero_grad() # Initialize the gradients, which will be recorded during the forward pass\n",
        "\n",
        "        output = model(smiles) #Forward pass of the mini-batch\n",
        "        loss = criterion(output, labels) #Computing the loss\n",
        "        loss.backward() # calculate the backward pass\n",
        "        torch.nn.utils.clip_grad_norm_(model.parameters(), 1)\n",
        "        optimizer.step() # Optimize the weights\n",
        "\n",
        "        running_loss += loss.item()\n",
        "    else:\n",
        "\n",
        "\n",
        "        model.eval()\n",
        "        validation_loss = torch.mean(( y_validation_t - model(X_validation_t) )**2).item()\n",
        "        model.train()\n",
        "\n",
        "        lr_scheduler.step(validation_loss)\n",
        "\n",
        "        train_loss = running_loss/len(train_loader)\n",
        "        train_losses.append(train_loss)\n",
        "        validation_losses.append(validation_loss)\n",
        "        if (e+1)%5 == 0:\n",
        "            print(\"Epoch %i, Training loss: %0.2F Validation loss: %0.2F\"%(e + 1, train_loss, validation_loss))\n"
      ]
    },
    {
      "cell_type": "markdown",
      "metadata": {
        "id": "s5LnzzmwosOy"
      },
      "source": [
        "Смотрим графики функции потерь"
      ]
    },
    {
      "cell_type": "code",
      "execution_count": 39,
      "metadata": {
        "colab": {
          "base_uri": "https://localhost:8080/",
          "height": 447
        },
        "id": "OxWY0EbGosOy",
        "outputId": "d199112f-c8f0-4471-f540-1cbc9653b394"
      },
      "outputs": [
        {
          "output_type": "execute_result",
          "data": {
            "text/plain": [
              "<matplotlib.legend.Legend at 0x7a4a61edba10>"
            ]
          },
          "metadata": {},
          "execution_count": 39
        },
        {
          "output_type": "display_data",
          "data": {
            "text/plain": [
              "<Figure size 640x480 with 1 Axes>"
            ],
            "image/png": "[encoded data removed]"
          },
          "metadata": {}
        }
      ],
      "source": [
        "plt.plot(train_losses, label=\"Train\")\n",
        "plt.plot(validation_losses, label=\"Validation\")\n",
        "#plt.yscale('log')\n",
        "plt.legend()"
      ]
    },
    {
      "cell_type": "markdown",
      "metadata": {
        "id": "_efvW65DosOz"
      },
      "source": [
        "Смотрим ошибку на валидационной выборке"
      ]
    },
    {
      "cell_type": "code",
      "execution_count": 40,
      "metadata": {
        "colab": {
          "base_uri": "https://localhost:8080/"
        },
        "id": "NiPORsmjosOz",
        "outputId": "b41d36e4-745b-4dbf-81c1-f176104cb86b"
      },
      "outputs": [
        {
          "output_type": "execute_result",
          "data": {
            "text/plain": [
              "0.38226550817489624"
            ]
          },
          "metadata": {},
          "execution_count": 40
        }
      ],
      "source": [
        "model.eval() #Swith to evaluation mode, where dropout is switched off\n",
        "#y_pred_train = model(X_train_t)\n",
        "y_pred_validation = model(X_validation_t)\n",
        "#y_pred_test = model(X_test)\n",
        "torch.mean(( y_validation_t - y_pred_validation )**2).item()"
      ]
    },
    {
      "cell_type": "markdown",
      "metadata": {
        "id": "Wq9rFGILosOz"
      },
      "source": [
        "Переводим обучающую и тестовую выюорки в тензоры"
      ]
    },
    {
      "cell_type": "code",
      "execution_count": 41,
      "metadata": {
        "id": "mIuRT00wosOz"
      },
      "outputs": [],
      "source": [
        "X_train_t = smivec.transform(X_train, canonical=False)\n",
        "X_train_t = torch.tensor(X_train_t, device=device).float()\n",
        "y_train_t = torch.tensor(y_train, device=device).float()\n",
        "y_train_t = torch.nan_to_num(y_train_t, nan = torch.nanmean(y_train_t))\n",
        "X_test_t = smivec.transform(X_test, canonical=False)\n",
        "X_test_t = torch.tensor(X_test_t, device=device).float()\n",
        "y_test_t = torch.tensor(y_test, device=device).float()\n",
        "y_test_t = torch.nan_to_num(y_test_t, nan = torch.nanmean(y_test_t))"
      ]
    },
    {
      "cell_type": "markdown",
      "metadata": {
        "id": "bo8YlNUXosOz"
      },
      "source": [
        "Делаем предсказание на трейне и тесте, считаем метрики"
      ]
    },
    {
      "cell_type": "code",
      "execution_count": 42,
      "metadata": {
        "colab": {
          "base_uri": "https://localhost:8080/"
        },
        "id": "Wva0HDrMosOz",
        "outputId": "5c5e92bc-0937-438b-8b1c-052bf533f96b"
      },
      "outputs": [
        {
          "output_type": "stream",
          "name": "stdout",
          "text": [
            "Train RMSE: 0.368\tTest RMSE: 0.527\n"
          ]
        }
      ],
      "source": [
        "y_pred_train = model(X_train_t)\n",
        "y_pred_test = model(X_test_t)\n",
        "train_rmse = torch.mean(( y_train_t - y_pred_train )**2).item()\n",
        "test_rmse = torch.mean(( y_test_t - y_pred_test )**2).item()\n",
        "print(\"Train RMSE: %0.3F\\tTest RMSE: %0.3F\"%(train_rmse, test_rmse))"
      ]
    },
    {
      "cell_type": "markdown",
      "source": [
        "Сформируем сабмит"
      ],
      "metadata": {
        "id": "dQh_14dSrU4O"
      }
    },
    {
      "cell_type": "code",
      "source": [
        "test_df = pd.read_csv('sibur_element_119_final_test_data80.csv')"
      ],
      "metadata": {
        "id": "nhvY8VicrU97"
      },
      "execution_count": 44,
      "outputs": []
    },
    {
      "cell_type": "code",
      "source": [
        "test_df.shape"
      ],
      "metadata": {
        "colab": {
          "base_uri": "https://localhost:8080/"
        },
        "id": "KCHSrfS0sSRQ",
        "outputId": "fac6f4fa-64a2-40f0-e195-bc41c870fd7b"
      },
      "execution_count": 50,
      "outputs": [
        {
          "output_type": "execute_result",
          "data": {
            "text/plain": [
              "(2630, 3)"
            ]
          },
          "metadata": {},
          "execution_count": 50
        }
      ]
    },
    {
      "cell_type": "markdown",
      "source": [
        "Превратим в молекулы записи тестового датасета"
      ],
      "metadata": {
        "id": "nv129wehtavV"
      }
    },
    {
      "cell_type": "code",
      "source": [
        "PandasTools.AddMoleculeColumnToFrame(test_df,'SMILES','Molecule')"
      ],
      "metadata": {
        "id": "TVfUtcujrmmX"
      },
      "execution_count": 45,
      "outputs": []
    },
    {
      "cell_type": "markdown",
      "source": [
        "Переведём в тензоры"
      ],
      "metadata": {
        "id": "bm50loLrtmEu"
      }
    },
    {
      "cell_type": "code",
      "source": [
        "X_test_t = smivec.transform(test_df['Molecule'], canonical=False)\n",
        "X_test_t = torch.tensor(X_test_t, device=device).float()"
      ],
      "metadata": {
        "id": "RsJBOAnOrzfm"
      },
      "execution_count": 48,
      "outputs": []
    },
    {
      "cell_type": "markdown",
      "source": [
        "Сделаем предсказание"
      ],
      "metadata": {
        "id": "MYkN-exAtodG"
      }
    },
    {
      "cell_type": "code",
      "source": [
        "y_pred_test = model(X_test_t)\n",
        "y_pred_test.shape"
      ],
      "metadata": {
        "colab": {
          "base_uri": "https://localhost:8080/"
        },
        "id": "SpMc3R4vsNfJ",
        "outputId": "12165027-2841-4d29-8b1e-1a3466914c09"
      },
      "execution_count": 49,
      "outputs": [
        {
          "output_type": "execute_result",
          "data": {
            "text/plain": [
              "torch.Size([1, 2630, 1])"
            ]
          },
          "metadata": {},
          "execution_count": 49
        }
      ]
    },
    {
      "cell_type": "markdown",
      "source": [
        "Превратим в лист"
      ],
      "metadata": {
        "id": "CZHjlGGGt0rW"
      }
    },
    {
      "cell_type": "code",
      "source": [
        "pred_test_list = y_pred_test[0].tolist()"
      ],
      "metadata": {
        "id": "HZcmX53KsUWF"
      },
      "execution_count": 60,
      "outputs": []
    },
    {
      "cell_type": "markdown",
      "source": [
        "Сделаем обратное преобразование и запишем в датафрейм"
      ],
      "metadata": {
        "id": "QH9XrUsOttmJ"
      }
    },
    {
      "cell_type": "code",
      "source": [
        "submit = test_df[['ID']]\n",
        "submit['LogP'] = scaler.inverse_transform(pred_test_list).reshape(len(y_pred_test[0]), )\n",
        "submit.head()"
      ],
      "metadata": {
        "colab": {
          "base_uri": "https://localhost:8080/",
          "height": 206
        },
        "id": "3sqv0nyJssKz",
        "outputId": "4e5836f1-8f8e-42bb-f97a-7a3b86d8bf59"
      },
      "execution_count": 63,
      "outputs": [
        {
          "output_type": "execute_result",
          "data": {
            "text/plain": [
              "      ID      LogP\n",
              "0  13403  3.140683\n",
              "1  13404  3.877001\n",
              "2  13405  5.531836\n",
              "3  13406  3.093252\n",
              "4  13407  5.707138"
            ],
            "text/html": [
              "\n",
              "  <div id=\"df-b90a5a1c-854f-41e1-b164-2cfc3b5066bf\" class=\"colab-df-container\">\n",
              "    <div>\n",
              "<style scoped>\n",
              "    .dataframe tbody tr th:only-of-type {\n",
              "        vertical-align: middle;\n",
              "    }\n",
              "\n",
              "    .dataframe tbody tr th {\n",
              "        vertical-align: top;\n",
              "    }\n",
              "\n",
              "    .dataframe thead th {\n",
              "        text-align: right;\n",
              "    }\n",
              "</style>\n",
              "<table border=\"1\" class=\"dataframe\">\n",
              "  <thead>\n",
              "    <tr style=\"text-align: right;\">\n",
              "      <th></th>\n",
              "      <th>ID</th>\n",
              "      <th>LogP</th>\n",
              "    </tr>\n",
              "  </thead>\n",
              "  <tbody>\n",
              "    <tr>\n",
              "      <th>0</th>\n",
              "      <td>13403</td>\n",
              "      <td>3.140683</td>\n",
              "    </tr>\n",
              "    <tr>\n",
              "      <th>1</th>\n",
              "      <td>13404</td>\n",
              "      <td>3.877001</td>\n",
              "    </tr>\n",
              "    <tr>\n",
              "      <th>2</th>\n",
              "      <td>13405</td>\n",
              "      <td>5.531836</td>\n",
              "    </tr>\n",
              "    <tr>\n",
              "      <th>3</th>\n",
              "      <td>13406</td>\n",
              "      <td>3.093252</td>\n",
              "    </tr>\n",
              "    <tr>\n",
              "      <th>4</th>\n",
              "      <td>13407</td>\n",
              "      <td>5.707138</td>\n",
              "    </tr>\n",
              "  </tbody>\n",
              "</table>\n",
              "</div>\n",
              "    <div class=\"colab-df-buttons\">\n",
              "\n",
              "  <div class=\"colab-df-container\">\n",
              "    <button class=\"colab-df-convert\" onclick=\"convertToInteractive('df-b90a5a1c-854f-41e1-b164-2cfc3b5066bf')\"\n",
              "            title=\"Convert this dataframe to an interactive table.\"\n",
              "            style=\"display:none;\">\n",
              "\n",
              "  <svg xmlns=\"http://www.w3.org/2000/svg\" height=\"24px\" viewBox=\"0 -960 960 960\">\n",
              "    <path d=\"M120-120v-720h720v720H120Zm60-500h600v-160H180v160Zm220 220h160v-160H400v160Zm0 220h160v-160H400v160ZM180-400h160v-160H180v160Zm440 0h160v-160H620v160ZM180-180h160v-160H180v160Zm440 0h160v-160H620v160Z\"/>\n",
              "  </svg>\n",
              "    </button>\n",
              "\n",
              "  <style>\n",
              "    .colab-df-container {\n",
              "      display:flex;\n",
              "      gap: 12px;\n",
              "    }\n",
              "\n",
              "    .colab-df-convert {\n",
              "      background-color: #E8F0FE;\n",
              "      border: none;\n",
              "      border-radius: 50%;\n",
              "      cursor: pointer;\n",
              "      display: none;\n",
              "      fill: #1967D2;\n",
              "      height: 32px;\n",
              "      padding: 0 0 0 0;\n",
              "      width: 32px;\n",
              "    }\n",
              "\n",
              "    .colab-df-convert:hover {\n",
              "      background-color: #E2EBFA;\n",
              "      box-shadow: 0px 1px 2px rgba(60, 64, 67, 0.3), 0px 1px 3px 1px rgba(60, 64, 67, 0.15);\n",
              "      fill: #174EA6;\n",
              "    }\n",
              "\n",
              "    .colab-df-buttons div {\n",
              "      margin-bottom: 4px;\n",
              "    }\n",
              "\n",
              "    [theme=dark] .colab-df-convert {\n",
              "      background-color: #3B4455;\n",
              "      fill: #D2E3FC;\n",
              "    }\n",
              "\n",
              "    [theme=dark] .colab-df-convert:hover {\n",
              "      background-color: #434B5C;\n",
              "      box-shadow: 0px 1px 3px 1px rgba(0, 0, 0, 0.15);\n",
              "      filter: drop-shadow(0px 1px 2px rgba(0, 0, 0, 0.3));\n",
              "      fill: #FFFFFF;\n",
              "    }\n",
              "  </style>\n",
              "\n",
              "    <script>\n",
              "      const buttonEl =\n",
              "        document.querySelector('#df-b90a5a1c-854f-41e1-b164-2cfc3b5066bf button.colab-df-convert');\n",
              "      buttonEl.style.display =\n",
              "        google.colab.kernel.accessAllowed ? 'block' : 'none';\n",
              "\n",
              "      async function convertToInteractive(key) {\n",
              "        const element = document.querySelector('#df-b90a5a1c-854f-41e1-b164-2cfc3b5066bf');\n",
              "        const dataTable =\n",
              "          await google.colab.kernel.invokeFunction('convertToInteractive',\n",
              "                                                    [key], {});\n",
              "        if (!dataTable) return;\n",
              "\n",
              "        const docLinkHtml = 'Like what you see? Visit the ' +\n",
              "          '<a target=\"_blank\" href=https://colab.research.google.com/notebooks/data_table.ipynb>data table notebook</a>'\n",
              "          + ' to learn more about interactive tables.';\n",
              "        element.innerHTML = '';\n",
              "        dataTable['output_type'] = 'display_data';\n",
              "        await google.colab.output.renderOutput(dataTable, element);\n",
              "        const docLink = document.createElement('div');\n",
              "        docLink.innerHTML = docLinkHtml;\n",
              "        element.appendChild(docLink);\n",
              "      }\n",
              "    </script>\n",
              "  </div>\n",
              "\n",
              "\n",
              "<div id=\"df-a03df3ff-f88e-473a-9e1d-64975d4efcb8\">\n",
              "  <button class=\"colab-df-quickchart\" onclick=\"quickchart('df-a03df3ff-f88e-473a-9e1d-64975d4efcb8')\"\n",
              "            title=\"Suggest charts\"\n",
              "            style=\"display:none;\">\n",
              "\n",
              "<svg xmlns=\"http://www.w3.org/2000/svg\" height=\"24px\"viewBox=\"0 0 24 24\"\n",
              "     width=\"24px\">\n",
              "    <g>\n",
              "        <path d=\"M19 3H5c-1.1 0-2 .9-2 2v14c0 1.1.9 2 2 2h14c1.1 0 2-.9 2-2V5c0-1.1-.9-2-2-2zM9 17H7v-7h2v7zm4 0h-2V7h2v10zm4 0h-2v-4h2v4z\"/>\n",
              "    </g>\n",
              "</svg>\n",
              "  </button>\n",
              "\n",
              "<style>\n",
              "  .colab-df-quickchart {\n",
              "      --bg-color: #E8F0FE;\n",
              "      --fill-color: #1967D2;\n",
              "      --hover-bg-color: #E2EBFA;\n",
              "      --hover-fill-color: #174EA6;\n",
              "      --disabled-fill-color: #AAA;\n",
              "      --disabled-bg-color: #DDD;\n",
              "  }\n",
              "\n",
              "  [theme=dark] .colab-df-quickchart {\n",
              "      --bg-color: #3B4455;\n",
              "      --fill-color: #D2E3FC;\n",
              "      --hover-bg-color: #434B5C;\n",
              "      --hover-fill-color: #FFFFFF;\n",
              "      --disabled-bg-color: #3B4455;\n",
              "      --disabled-fill-color: #666;\n",
              "  }\n",
              "\n",
              "  .colab-df-quickchart {\n",
              "    background-color: var(--bg-color);\n",
              "    border: none;\n",
              "    border-radius: 50%;\n",
              "    cursor: pointer;\n",
              "    display: none;\n",
              "    fill: var(--fill-color);\n",
              "    height: 32px;\n",
              "    padding: 0;\n",
              "    width: 32px;\n",
              "  }\n",
              "\n",
              "  .colab-df-quickchart:hover {\n",
              "    background-color: var(--hover-bg-color);\n",
              "    box-shadow: 0 1px 2px rgba(60, 64, 67, 0.3), 0 1px 3px 1px rgba(60, 64, 67, 0.15);\n",
              "    fill: var(--button-hover-fill-color);\n",
              "  }\n",
              "\n",
              "  .colab-df-quickchart-complete:disabled,\n",
              "  .colab-df-quickchart-complete:disabled:hover {\n",
              "    background-color: var(--disabled-bg-color);\n",
              "    fill: var(--disabled-fill-color);\n",
              "    box-shadow: none;\n",
              "  }\n",
              "\n",
              "  .colab-df-spinner {\n",
              "    border: 2px solid var(--fill-color);\n",
              "    border-color: transparent;\n",
              "    border-bottom-color: var(--fill-color);\n",
              "    animation:\n",
              "      spin 1s steps(1) infinite;\n",
              "  }\n",
              "\n",
              "  @keyframes spin {\n",
              "    0% {\n",
              "      border-color: transparent;\n",
              "      border-bottom-color: var(--fill-color);\n",
              "      border-left-color: var(--fill-color);\n",
              "    }\n",
              "    20% {\n",
              "      border-color: transparent;\n",
              "      border-left-color: var(--fill-color);\n",
              "      border-top-color: var(--fill-color);\n",
              "    }\n",
              "    30% {\n",
              "      border-color: transparent;\n",
              "      border-left-color: var(--fill-color);\n",
              "      border-top-color: var(--fill-color);\n",
              "      border-right-color: var(--fill-color);\n",
              "    }\n",
              "    40% {\n",
              "      border-color: transparent;\n",
              "      border-right-color: var(--fill-color);\n",
              "      border-top-color: var(--fill-color);\n",
              "    }\n",
              "    60% {\n",
              "      border-color: transparent;\n",
              "      border-right-color: var(--fill-color);\n",
              "    }\n",
              "    80% {\n",
              "      border-color: transparent;\n",
              "      border-right-color: var(--fill-color);\n",
              "      border-bottom-color: var(--fill-color);\n",
              "    }\n",
              "    90% {\n",
              "      border-color: transparent;\n",
              "      border-bottom-color: var(--fill-color);\n",
              "    }\n",
              "  }\n",
              "</style>\n",
              "\n",
              "  <script>\n",
              "    async function quickchart(key) {\n",
              "      const quickchartButtonEl =\n",
              "        document.querySelector('#' + key + ' button');\n",
              "      quickchartButtonEl.disabled = true;  // To prevent multiple clicks.\n",
              "      quickchartButtonEl.classList.add('colab-df-spinner');\n",
              "      try {\n",
              "        const charts = await google.colab.kernel.invokeFunction(\n",
              "            'suggestCharts', [key], {});\n",
              "      } catch (error) {\n",
              "        console.error('Error during call to suggestCharts:', error);\n",
              "      }\n",
              "      quickchartButtonEl.classList.remove('colab-df-spinner');\n",
              "      quickchartButtonEl.classList.add('colab-df-quickchart-complete');\n",
              "    }\n",
              "    (() => {\n",
              "      let quickchartButtonEl =\n",
              "        document.querySelector('#df-a03df3ff-f88e-473a-9e1d-64975d4efcb8 button');\n",
              "      quickchartButtonEl.style.display =\n",
              "        google.colab.kernel.accessAllowed ? 'block' : 'none';\n",
              "    })();\n",
              "  </script>\n",
              "</div>\n",
              "    </div>\n",
              "  </div>\n"
            ],
            "application/vnd.google.colaboratory.intrinsic+json": {
              "type": "dataframe",
              "variable_name": "submit",
              "summary": "{\n  \"name\": \"submit\",\n  \"rows\": 2630,\n  \"fields\": [\n    {\n      \"column\": \"ID\",\n      \"properties\": {\n        \"dtype\": \"number\",\n        \"std\": 759,\n        \"min\": 13403,\n        \"max\": 16032,\n        \"num_unique_values\": 2630,\n        \"samples\": [\n          13624,\n          13721,\n          14329\n        ],\n        \"semantic_type\": \"\",\n        \"description\": \"\"\n      }\n    },\n    {\n      \"column\": \"LogP\",\n      \"properties\": {\n        \"dtype\": \"number\",\n        \"std\": 1.5404994349298649,\n        \"min\": -1.9950820679242813,\n        \"max\": 8.35201870224277,\n        \"num_unique_values\": 2584,\n        \"samples\": [\n          5.938879206993734,\n          7.741734107750222,\n          5.564295352496629\n        ],\n        \"semantic_type\": \"\",\n        \"description\": \"\"\n      }\n    }\n  ]\n}"
            }
          },
          "metadata": {},
          "execution_count": 63
        }
      ]
    },
    {
      "cell_type": "markdown",
      "source": [
        "Сохраним"
      ],
      "metadata": {
        "id": "CIhhv6NZt5T8"
      }
    },
    {
      "cell_type": "code",
      "source": [
        "submit.to_csv('submit.csv', index=0)"
      ],
      "metadata": {
        "id": "jUQUeNxss3L-"
      },
      "execution_count": 64,
      "outputs": []
    }
  ],
  "metadata": {
    "kernelspec": {
      "display_name": "Python 3",
      "name": "python3"
    },
    "language_info": {
      "codemirror_mode": {
        "name": "ipython",
        "version": 3
      },
      "file_extension": ".py",
      "mimetype": "text/x-python",
      "name": "python",
      "nbconvert_exporter": "python",
      "pygments_lexer": "ipython3",
      "version": "3.11.9"
    },
    "colab": {
      "provenance": [],
      "gpuType": "T4"
    },
    "accelerator": "GPU"
  },
  "nbformat": 4,
  "nbformat_minor": 0
}